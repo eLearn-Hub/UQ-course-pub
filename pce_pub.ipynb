{
 "cells": [
  {
   "cell_type": "markdown",
   "metadata": {},
   "source": [
    "# Stochastic-Spectral Methods for Uncertainty Propagation \n",
    "# Polynomial Chaos Expansion (PCE)\n",
    " **Saleh Rezaeiravesh and Philipp Schlatter** <br/> \n",
    " saleh.rezaeiravesh@manchester.ac.uk and pschlatt@mech.kth.se <br/> \n",
    " Modelling & Simulation, Department of Mechanical, Aerospace and Civil Engineering (MACE), The University of Manchester, UK <br/> \n",
    " SimEx/FLOW, Engineering Mechanics, KTH Royal Institute of Technology, Sweden\n",
    "___"
   ]
  },
  {
   "cell_type": "code",
   "execution_count": 1,
   "metadata": {},
   "outputs": [],
   "source": [
    "import sys\n",
    "import numpy as np\n",
    "import math as mt\n",
    "import matplotlib.pyplot as plt\n",
    "sys.path.append('./modules/')\n",
    "import grafix\n",
    "import rosenbrock"
   ]
  },
  {
   "cell_type": "markdown",
   "metadata": {},
   "source": [
    "### Learning Objectives\n",
    "* Getting familiar with the non-intrusive PCE (concept, formulation, implementation),\n",
    "* Becoming able to Apply PCE to different model functions,\n",
    "* Making comparison between the performance of PCE and random sampling methods for uncertainty propagation."
   ]
  },
  {
   "cell_type": "markdown",
   "metadata": {},
   "source": [
    "## Introduction\n",
    "PCE is widely used in UQ applications for construction of a surrogate of the model response over the parameter space as well as uncertainty propagation or UQ forward problem. For the latter, PCEs can be used both intrusively  and non-intrusively. In the latter, a surrogate is constructed based on the parameters samples and evaluation of the model which is treated as a blackbox. \n",
    "\n",
    "Consider, the model output or response $y$ is related via a model function $f$ to the fixed inputs $\\chi$ and uncertain parameter $q$:\n",
    "\n",
    "$$\n",
    "\\begin{equation}\n",
    "y=f(\\chi,q)\n",
    "\\end{equation}\\label{model}\\tag{1}\n",
    "$$\n",
    "\n",
    "For simplicity, we assume the dimensionality of $q$ to be one, although an extension of the PCE to multi-dimensional parameter space is given below. \n",
    "\n",
    "Using the PCE, the model function can be expanded as, \n",
    "\n",
    "$$\n",
    "\\begin{equation}\n",
    "\\tilde{f}(\\chi,q) = \\sum_{k=0}^K \\hat{f}_k (\\chi) \\psi_k(q)  \\,,\n",
    "\\end{equation}\\label{pce1d}\\tag{2}\n",
    "$$\n",
    "\n",
    "where the $\\tilde{}$ shows an approximate representation of the actual $f(\\chi,q)$ which is either known or unknown (blakbox). \n",
    "Clearly, the stochasticity of $f(\\chi,q)$ is fully represented by the basis functions $\\psi_k(q)$, and given a training dataset, associated coefficients $\\hat{f}_k (\\chi)$ are to be determined. \n",
    "\n",
    "Once the PCE is constructed, it can be used for estimating the stochastic moments of the model function. In particular, \n",
    "\n",
    "$$\n",
    "\\begin{eqnarray}\n",
    "\\mathbb{E}[f(q)] &=& \\hat{f}_0(\\chi) \\\\\n",
    "\\mathbb{V}[f(q)] &=& \\sum_{k=1}^K \\hat{f}^2_k(\\chi) \\gamma_k \\\\\n",
    "\\end{eqnarray}\n",
    "$$"
   ]
  },
  {
   "cell_type": "markdown",
   "metadata": {},
   "source": [
    "## Basis functions"
   ]
  },
  {
   "cell_type": "markdown",
   "metadata": {},
   "source": [
    "Assume a random variable (RV) $\\xi\\in \\Gamma$. This RV has a distribution with associated PDF $\\rho(\\xi)$. \n",
    "Then for the PCE, we are interested in finding basis functions $\\{\\psi_k\\}_{k=1}^K$ which satisfy the following conditions:\n",
    "    \n",
    "1. Orthogonality with respect to $\\rho(\\xi)$: This can be written in form a weighted inner-product:\n",
    "\n",
    "$$\n",
    "\\begin{equation}\n",
    "   \\langle \\psi_i (\\xi)\\psi_j (\\xi) \\rangle_\\rho :=\\int_\\Gamma  \\psi_i (\\xi)\\psi_j (\\xi)\\rho(\\xi) d\\xi \n",
    "   =\\gamma_i \\delta_{ij}\n",
    "\\end{equation}   \n",
    "$$        \n",
    "where $\\delta_{ij}$ is the Kronecker Delta, and\n",
    "\n",
    "$$\n",
    "\\begin{equation}\n",
    "\\gamma_i = \\langle \\psi_{i}(\\xi) \\psi_{i}(\\xi) \\rangle_\\rho\n",
    "\\end{equation}\n",
    "$$\n",
    "\n",
    "2. The first basis satisfies,\n",
    "$$\n",
    "\\begin{equation}\n",
    "\\mathbb{E}(\\psi_0(\\xi)) = \\int_\\Gamma \\psi_0(\\xi) \\rho(\\xi) d\\xi = 1\n",
    "\\end{equation}\n",
    "$$"
   ]
  },
  {
   "cell_type": "markdown",
   "metadata": {},
   "source": [
    "### Choosing the bases\n",
    "The use of the expansion ([2](#mjx-eqn-pce1d)) goes back to the work by [Weiner, 1938](https://www.jstor.org/stable/2371268) who used the Hermite polynomials to express the stochasticity in random variables with Gaussian distribution. \n",
    "\n",
    "[Xiu and Karniadakis, 2003](http://www.sci.utah.edu/~dxiu/Papers/XiuK_JCP03.pdf) extended the approach to various distributions of a random variable $\\xi$. They showed, for a given distribution optimal polynomial basis functions can be chosen to maximize the convergence of the PCE expansion ([2](#mjx-eqn-pce1d)). This resulted in the generalized PCE (gPCE)."
   ]
  },
  {
   "cell_type": "markdown",
   "metadata": {},
   "source": [
    "These basis functions are accessible in `numpy` through class `polynomial`. Here in this notebook, we consider only Legendre and Hermite polynomials for the uniform and Gaussian random variables, respectively. "
   ]
  },
  {
   "cell_type": "code",
   "execution_count": 2,
   "metadata": {},
   "outputs": [],
   "source": [
    "#gPCE basis taken from UQit\n",
    "def gPCE_basis(n_,xi_,distType_):\n",
    "    \"\"\"\n",
    "    Evaluates gPCE polynomial basis of order `n_` at `xi_` points taken from the mapped \n",
    "    space :math:`\\Gamma`.\n",
    "    The standard polynomials are chosen based on the gPCE rules.        \n",
    "    Args:\n",
    "      `n_`: int\n",
    "         Order of the basis\n",
    "      `xi_`: 1D numpy array of size m\n",
    "         Points taken from the mapped space\n",
    "      `distType_`: string\n",
    "         Distribution type of the random parameter (based on the gPCE rule)\n",
    "       \n",
    "    Returns:\n",
    "      `psi`: 1D numpy array of size m\n",
    "         Values of the gPCE basis at `xi_`     \n",
    "    \"\"\"\n",
    "    if distType_=='Unif':\n",
    "       psi=np.polynomial.legendre.legval(xi_,[0]*n_+[1])\n",
    "    elif distType_=='Norm':\n",
    "       psi=np.polynomial.hermite_e.hermeval(xi_,[0]*n_+[1])\n",
    "    return psi"
   ]
  },
  {
   "cell_type": "markdown",
   "metadata": {},
   "source": [
    "Plot Legendre polynomial bases up to order `n`:"
   ]
  },
  {
   "cell_type": "code",
   "execution_count": 3,
   "metadata": {},
   "outputs": [
    {
     "data": {
      "image/png": "[encoded data removed]",
      "text/plain": [
       "<Figure size 432x288 with 1 Axes>"
      ]
     },
     "metadata": {
      "needs_background": "light"
     },
     "output_type": "display_data"
    }
   ],
   "source": [
    "n=6\n",
    "xi=np.linspace(-1,1,1000)\n",
    "for n_ in range(n):\n",
    "    L=gPCE_basis(n_,xi,'Unif')\n",
    "    plt.plot(xi,L,label=r'$L_'+str(n_)+'$')\n",
    "plt.legend(loc='best')        \n",
    "plt.grid()"
   ]
  },
  {
   "cell_type": "code",
   "execution_count": 4,
   "metadata": {},
   "outputs": [
    {
     "name": "stdout",
     "output_type": "stream",
     "text": [
      "4.4401080857837255e-05\n"
     ]
    }
   ],
   "source": [
    "#Check orthogonality of the basis functions\n",
    "n_=10   #polynomial order\n",
    "L1=gPCE_basis(n_,xi,'Unif')\n",
    "L2=gPCE_basis(n_+2,xi,'Unif')\n",
    "inProd=np.trapz(y=L1*L2, x=xi)\n",
    "print(inProd*0.5)"
   ]
  },
  {
   "cell_type": "markdown",
   "metadata": {},
   "source": [
    "Plot Hermite polynomial bases up to order `n`:"
   ]
  },
  {
   "cell_type": "code",
   "execution_count": 5,
   "metadata": {},
   "outputs": [
    {
     "data": {
      "image/png": "[encoded data removed]",
      "text/plain": [
       "<Figure size 432x288 with 1 Axes>"
      ]
     },
     "metadata": {
      "needs_background": "light"
     },
     "output_type": "display_data"
    }
   ],
   "source": [
    "n=6\n",
    "m_=0\n",
    "s_=0.1\n",
    "xi=np.linspace(m_-10*s_,m_+10*s_,1000)\n",
    "for n_ in range(n):\n",
    "    L=gPCE_basis(n_,xi,'Norm')\n",
    "    plt.plot(xi,L,label=r'$H_'+str(n_)+'$')\n",
    "plt.legend(loc='best')  \n",
    "plt.grid()"
   ]
  },
  {
   "cell_type": "markdown",
   "metadata": {},
   "source": [
    "### Estimating the coefficients of PCE\n",
    "Consider a set of training samples $\\{q^{(i)}\\}_{i=1}^n$ are chosen at which the model function $y=f(q)$ is evaluated. Using ???"
   ]
  },
  {
   "cell_type": "markdown",
   "metadata": {},
   "source": [
    "Function `gqPtsWts()` returns the quadrature nodes and weights based on the gauss-quadrature rule given the number of quadrature points and standard distribution of the random variable (only uniform and Gaussian distributions are implemented here)."
   ]
  },
  {
   "cell_type": "code",
   "execution_count": 6,
   "metadata": {},
   "outputs": [],
   "source": [
    "#Gauss-Quadrature rule, taken from UQit\n",
    "def gqPtsWts(n_,distType_):\n",
    "    \"\"\"\n",
    "    Gauss quadrature nodes and weights associated to distribution type `type_`\n",
    "    based on the gPCE rule.\n",
    "    Args:\n",
    "       `n_`: int, \n",
    "           Order of the gPCE polynomial.\n",
    "       `type_`: string, \n",
    "           Distribution of the random variable according to the gPCE rule\n",
    "    Returns:\n",
    "       `quads`: 1D numpy array of size `n_` \n",
    "        Gauss quadrature nodes\n",
    "        `weights`: 1D numpy array of size `n_` \n",
    "        Gauss quadrature weights\n",
    "    \"\"\"\n",
    "    if distType_=='Unif':\n",
    "       x_=np.polynomial.legendre.leggauss(n_)\n",
    "    elif distType_=='Norm':\n",
    "       x_=np.polynomial.hermite_e.hermegauss(n_)\n",
    "    quads=x_[0]\n",
    "    weights=x_[1]    \n",
    "    #Multipliers for the Gauss-quadrature integration rule, when using the weights provided by numpy.    \n",
    "    if distType_=='Unif':\n",
    "       fac_=0.5\n",
    "    elif distType_=='Norm':\n",
    "       fac_=1./mt.sqrt(2*mt.pi)\n",
    "    return quads,weights,fac_"
   ]
  },
  {
   "cell_type": "markdown",
   "metadata": {},
   "source": [
    "Function `gqRule()` uses `gqPtsWts()` and works for one or more uncertain parameters. It also maps $\\xi\\in\\Gamma$ to $q\\in\\mathbb{Q}$ for Uniform and Gaussian distributions."
   ]
  },
  {
   "cell_type": "code",
   "execution_count": 7,
   "metadata": {},
   "outputs": [],
   "source": [
    "def gqRule(n,distType,qInfo):\n",
    "    \"\"\"\n",
    "    Weight and xi\\in\\Gamma based on the GQ rule    \n",
    "    Args:\n",
    "        `n`: list of GQ points for each parameter\n",
    "        `distType`: list of distribution type of the parameters, 'Unif', 'Norm'\n",
    "        `qInfo`: List of length 2 (optional)       \n",
    "            `qInfo`=[qMin,qMax] if distType=='Unif'\n",
    "            `qInfo`=[mean,sdev] if distType=='Norm'\n",
    "    \"\"\"\n",
    "    p=len(distType)   #dimenionality of the parameters\n",
    "    \n",
    "    xi=[]\n",
    "    w=[]\n",
    "    integFac=[]\n",
    "    qGQ=[]    \n",
    "    for i in range(p):\n",
    "        xi_,w_,fac_=gqPtsWts(n[i],distType[i])    \n",
    "        xi.append(xi_)\n",
    "        w.append(w_)\n",
    "        integFac.append(fac_)\n",
    "        if distType[i]=='Unif':\n",
    "           qGQ.append((0.5*(xi_+1.0)*(qInfo[i][1]-qInfo[i][0])+qInfo[i][0]))\n",
    "        elif distType[i]=='Norm':\n",
    "           qGQ.append(qInfo[i][0]+qInfo[i][1]*xi_)\n",
    "    return xi,w,integFac,qGQ   "
   ]
  },
  {
   "cell_type": "markdown",
   "metadata": {},
   "source": [
    "## Example: Model with one parameter\n",
    "Consider the following algebraic equation,\n",
    "$$\n",
    "y=f(q)=q+0.7 \\sin(5 q) + 3 \\cos(q) \\,,\n",
    "$$\n",
    "which depends on parameter $q$. Here we assume, $q\\sim \\mathcal{N}(1,0.3^2)$ and use PCE to construct mean and variance of $f(q)$. Moreover, we will look at the surrogate for $f(q)$ which is constructed by PCE.\n",
    "\n",
    "First, we define the function as,"
   ]
  },
  {
   "cell_type": "code",
   "execution_count": 8,
   "metadata": {},
   "outputs": [],
   "source": [
    "y1d= lambda q: q+0.7*np.sin(5*q)+3*np.cos(q)"
   ]
  },
  {
   "cell_type": "markdown",
   "metadata": {},
   "source": [
    "The following small python function shows an implementation of PCE:"
   ]
  },
  {
   "cell_type": "code",
   "execution_count": 9,
   "metadata": {},
   "outputs": [],
   "source": [
    "def gPCE1D_cnstrct(nGQ,xi,w,integFac,fGQ,distType):\n",
    "    \"\"\"\n",
    "    Construct PCE for one parameter    \n",
    "    \n",
    "    `fGQ`: numpy array of size n\n",
    "    distType='Unif', 'Norm'\n",
    "    \"\"\"    \n",
    "    K=nGQ\n",
    "    \n",
    "    fCoef=np.zeros(K)   #PCE Coefficients\n",
    "    pce_inn=np.zeros(K) #PCE inner-product\n",
    "    \n",
    "    for k in range(nGQ): \n",
    "        psi_k=gPCE_basis(k,xi,distType)        \n",
    "        \n",
    "        sum1=np.sum(fGQ*psi_k[0]*w[0])\n",
    "        sum2= np.sum(psi_k[0]**2.*w[0])\n",
    "        \n",
    "        fCoef[k]=sum1/sum2\n",
    "        pce_inn[k]=sum2*integFac[0]\n",
    "        \n",
    "    return fCoef,pce_inn"
   ]
  },
  {
   "cell_type": "markdown",
   "metadata": {},
   "source": [
    "First, we create `n` Gauss-Hermite samples for $q$ at which $f(q)$ is evaluated. This leads to the training data to construct the PCE.\n",
    "Note that we first draw samples for $\\xi\\sim\\mathcal{N}(0,1)$ and then $q=m+s\\xi$ where $q\\sim\\mathcal{N}(m,s^2)$."
   ]
  },
  {
   "cell_type": "code",
   "execution_count": 10,
   "metadata": {},
   "outputs": [],
   "source": [
    "n=6             #number of Gauss-Hermite samples\n",
    "qInfo_=[1,0.3]  #mean and standard-deviation of q\n",
    "\n",
    "#Create training samples\n",
    "xi,w,integFac,qGQ=gqRule([n],distType=['Norm'],qInfo=[qInfo_])\n",
    "yTrain=y1d(qGQ[0])"
   ]
  },
  {
   "cell_type": "markdown",
   "metadata": {},
   "source": [
    "Call `gPCE1D_cnstrct()` to construct the PCE. The exported coefficients as well as the inner-product of the PCE bases are used to estimate mean and variance of $f(q)$."
   ]
  },
  {
   "cell_type": "code",
   "execution_count": 11,
   "metadata": {},
   "outputs": [
    {
     "name": "stdout",
     "output_type": "stream",
     "text": [
      "E[f(q)]=2.33174 and V[f(q)]=0.2143\n"
     ]
    }
   ],
   "source": [
    "#Construct the PCE\n",
    "fCoef1,pce_inn1=gPCE1D_cnstrct(n,xi,w,integFac,yTrain,'Norm')\n",
    "\n",
    "#Estimate mean and variance of f(q)\n",
    "m1=fCoef1[0]\n",
    "s1=np.sum(fCoef1[1:]**2*pce_inn1[1:])\n",
    "print('E[f(q)]=%g and V[f(q)]=%g' %(m1,s1))"
   ]
  },
  {
   "cell_type": "markdown",
   "metadata": {},
   "source": [
    "**Discussion** \n",
    "* Compare these estimated values for different values of `n` with what can be obtained from the Monte Carlo sampling method and perturbation method."
   ]
  },
  {
   "cell_type": "markdown",
   "metadata": {},
   "source": [
    "Next, we can plot the true function along with the Gauss-Hermite training samples and the approcimate function obtained from PCE (surrogate)."
   ]
  },
  {
   "cell_type": "code",
   "execution_count": 12,
   "metadata": {},
   "outputs": [
    {
     "data": {
      "image/png": "[encoded data removed]",
      "text/plain": [
       "<Figure size 720x288 with 1 Axes>"
      ]
     },
     "metadata": {
      "needs_background": "light"
     },
     "output_type": "display_data"
    }
   ],
   "source": [
    "plt.figure(figsize=(10,4))\n",
    "\n",
    "plt.plot(qGQ[0],yTrain,'ob',label='Training samples')\n",
    "\n",
    "nTest=1000   #number of equispaced samples of q\n",
    "qTest=np.linspace(np.min(qGQ[0]),np.max(qGQ[0]),nTest)\n",
    "plt.plot(qTest,y1d(qTest),'-k',label='Exact function')\n",
    "\n",
    "#PCE as a surrogate\n",
    "xiTest=(qTest-qInfo_[0])/qInfo_[1]\n",
    "\n",
    "psi1d=np.zeros((n,nTest))\n",
    "for k in range(n): \n",
    "    psi1d[k,:]=gPCE_basis(k,xiTest,'Norm')     \n",
    "yRec1=np.sum(fCoef1*psi1d.T,axis=1)\n",
    "      \n",
    "plt.plot(qTest,yRec1,'--r',label='PCE Surrogate')\n",
    "\n",
    "plt.xlabel('q')\n",
    "plt.ylabel('f(q)')\n",
    "plt.legend()\n",
    "plt.grid()"
   ]
  },
  {
   "cell_type": "markdown",
   "metadata": {},
   "source": [
    "**Disscusion** \n",
    "* Study how the approximate function by PCE converges to the exact function as the number of training samples `n` changes. \n",
    "* Do we really need an accurate approximation of $f(q)$ to guarantee accurate estimates for the mean and variance of $f(q)$?"
   ]
  },
  {
   "cell_type": "markdown",
   "metadata": {},
   "source": [
    "## Application to Multi-parameter Model Functions"
   ]
  },
  {
   "cell_type": "markdown",
   "metadata": {},
   "source": [
    "Consider $\\mathbf{q}\\in \\mathbb{Q}\\subset \\mathbb{R}^p$, where $\\mathbb{Q}$ is a tensor-product of $\\mathbb{Q}_i$ associated to the $i$-th parameter. Assume the parameters $\\mathbf{q}=[q_1,q_2,\\ldots,q_p]$ are mutually independent and the distribution of $q_i$ is denoted by $\\rho_{Q_i}(q_i)$. \n",
    "\n",
    "The PCE expansion for the $p$ parameters is written as,\n",
    "\n",
    "$$\n",
    "\\begin{equation}\n",
    "\\tilde{f}(\\chi,\\mathbf{q}) = \\sum_{k=0}^K \\hat{f}_k(\\chi) \\Psi_k(\\mathbf{\\xi})\n",
    "\\end{equation}\n",
    "$$\n",
    "\n",
    "where $\\Psi_k(\\mathbf{\\xi}) = \\psi_{k_1}(\\xi_1)\\psi_{k_2}(\\xi_2)\\cdots\\psi_{k_p}(\\xi_p)$, $k$ is unique re-index corresponding to the multi-index $\\mathbf{k}=\\{k_1,k_2,\\cdots,k_p\\}$ is a multi-index.\n",
    "As in the one-parameter case, $\\xi_i\\in\\Gamma_i$ is the mapped value of $q_i\\in\\mathbb{Q}_i$. \n",
    "\n",
    "The orthogonality condition with respect to $\\rho(\\mathbf{\\xi})$ reads as, \n",
    "\n",
    "$$\n",
    "\\begin{equation}\n",
    "\\langle \\Psi_{\\mathbf{k}}(\\mathbf{\\xi}) \\Psi_{\\mathbf{m}}(\\mathbf{\\xi})\\rangle_\\rho = \\gamma_\\mathbf{k} \\delta_{\\mathbf{k}\\mathbf{m}}\n",
    "\\end{equation}\n",
    "$$\n",
    "\n",
    "To constuct the PCE for $p$ parameters, the following have to be done:\n",
    "1. Based on the distribution of the $i$-th parameter, the associated basis functions are chosen. \n",
    "2. A truncation scheme for the PCE expansion is chosen, based on which $K$ and multi-index $\\mathbf{k}$ are determined.\n",
    "3. Given a set of training data, the unknown coefficients $\\hat{f}_k$ are computed. \n"
   ]
  },
  {
   "cell_type": "markdown",
   "metadata": {},
   "source": [
    "## Example: The Rosenbrock Function (two parameters)"
   ]
  },
  {
   "cell_type": "markdown",
   "metadata": {},
   "source": [
    "We revisit the [Rosenbrock function](https://en.wikipedia.org/wiki/Rosenbrock_function) which is an algebraic model with two parameters $q_1$ and $q_2$:\n",
    "$$\n",
    "\\begin{equation}\n",
    "f(q_1,q_2) = a(q_2-q_1^2)^2 + (b-q_1)^2  \\,,\n",
    "\\end{equation}\n",
    "$$\n",
    "where $a$ and $b$ are two fixed constants with default values $a=100$ and $b=1$.\n",
    "\n",
    "The following function evaluates the Rosenbrock function for given values of $a$, $b$, $q_1$, and $q_2$."
   ]
  },
  {
   "cell_type": "code",
   "execution_count": 13,
   "metadata": {},
   "outputs": [],
   "source": [
    "#Rosenbrock function\n",
    "Rsbrk = lambda a, b, q1, q2 : a*(q2-q1**2)**2+(b-q1)**2"
   ]
  },
  {
   "cell_type": "markdown",
   "metadata": {},
   "source": [
    "Assume $q_1$ and $q_2$ are uniformly distributed as $q_1\\sim\\mathcal{U}[q_{1_L},q_{1_R}]$ and $q_2\\sim\\mathcal{U}[q_{2_L},q_{2_R}]$. Also, assume these eparameters are mutually independent. \n",
    "\n",
    "We are going to use PCE with different constructions to estimate $\\mathbb{E}(f(\\mathbf{q}))$ and $\\mathbb{V}(f(\\mathbf{q}))$. "
   ]
  },
  {
   "cell_type": "markdown",
   "metadata": {},
   "source": [
    "### Tensor-product truncation with projection method\n",
    "First, we use Gauss-Legendre rules to create $n_1$ and $n_2 $samples for $q_1$ and $q_2$, respectively. Therefore there are $n=n_1\\times n_2$ samples over the 2D parameter space. Using the tensor-product truncation leads to $K=n_1\\times n_2 -1$. The projection method is used to compute the PCE coeffcients from the training data.\n",
    "Given the coeffcients, the stochstic moments of $f(\\chi,\\mathbf{q})$ can be estimated. "
   ]
  },
  {
   "cell_type": "markdown",
   "metadata": {},
   "source": [
    "First, we provide the required information for consturcting the PCE."
   ]
  },
  {
   "cell_type": "code",
   "execution_count": 14,
   "metadata": {},
   "outputs": [],
   "source": [
    "n=[4,5]   #number of GQ points for the parameters\n",
    "a=100     #Constants in Rosenbrock function\n",
    "b=1\n",
    "q_bound=[[-2,2],   #q1 bound\n",
    "         [-2,2]]   #q2 bound"
   ]
  },
  {
   "cell_type": "markdown",
   "metadata": {},
   "source": [
    "Using `gqRule()` defined above, the quuadrature points $\\mathbf{\\xi}$ and associated $\\mathbf{q}$ and weights $w$ as well as values of $\\gamma_k$ are determined. "
   ]
  },
  {
   "cell_type": "code",
   "execution_count": 15,
   "metadata": {},
   "outputs": [],
   "source": [
    "xi,w,integFac,qGQ=gqRule(n,['Unif','Unif'],q_bound)   "
   ]
  },
  {
   "cell_type": "markdown",
   "metadata": {},
   "source": [
    "The Rosenbrock function is evaluated at a grid of sampling points."
   ]
  },
  {
   "cell_type": "code",
   "execution_count": 16,
   "metadata": {},
   "outputs": [],
   "source": [
    "qGQ_grid=np.vstack(np.meshgrid(qGQ[0],qGQ[1])).reshape(2,-1).T\n",
    "y_ex=Rsbrk(a,b,qGQ_grid[:,0],qGQ_grid[:,1])"
   ]
  },
  {
   "cell_type": "markdown",
   "metadata": {},
   "source": [
    "The following function applies PCE for tensor-product truncation scheme for two parameters with the inputs being the training data and quadrature points and weights to apply projection method for computing the unknown coeffcients in PCE. Note that the code is not written in an efficient way, for calrity and educational purposes. "
   ]
  },
  {
   "cell_type": "code",
   "execution_count": 17,
   "metadata": {},
   "outputs": [],
   "source": [
    "def gPCE2D_TP_cnstrct(nGQ,xi,w,integFac,fGQ,distType):\n",
    "    \"\"\"\n",
    "    Construct a 2D PCE based on tensor product\n",
    "    (from my library)\n",
    "    `fGQ`: numpy array of ndim=number of parameters    \n",
    "    distType='Unif', 'Norm'\n",
    "    \"\"\"\n",
    "    K=nGQ[0]*nGQ[1]  #upper bound of sum in PCE (assuming full tensor product)\n",
    "\n",
    "    #find the coefficients in the expansion\n",
    "    fCoef=np.zeros(K)   #PCE Coefficients\n",
    "    pce_inn=np.zeros(K) #PCE inner-product\n",
    "    sum2=[]\n",
    "    for k2 in range(nGQ[1]):  #k-th coeff in PCE - param2\n",
    "        psi_k2=gPCE_basis(k2,xi[1],distType[1])\n",
    "        for k1 in range(nGQ[0]):  #k-th coeff in PCE - param1\n",
    "            psi_k1=gPCE_basis(k1,xi[0],distType[0])\n",
    "            sum1=0.0\n",
    "            sum2_=0.0\n",
    "            k=k2*nGQ[0]+k1\n",
    "            for j2 in range(nGQ[1]):\n",
    "                for j1 in range(nGQ[0]):\n",
    "                    j=j2*nGQ[0]+j1                    \n",
    "                    sum1 += fGQ[j]*(psi_k1[j1]*psi_k2[j2]*w[0][j1]*w[1][j2])\n",
    "                    sum2_+=        (psi_k1[j1]*psi_k2[j2])**2.*w[0][j1]*w[1][j2]\n",
    "            fCoef[k]=sum1/sum2_\n",
    "            pce_inn[k]=sum2_*integFac[0]*integFac[1]\n",
    "    return fCoef,pce_inn"
   ]
  },
  {
   "cell_type": "markdown",
   "metadata": {},
   "source": [
    "Calling the function `gPCE2D_TP_cnstrct()` returns the $\\hat{f}_{k}$ and $\\gamma_{k}$ for $k=1,2,\\cdots,K$. "
   ]
  },
  {
   "cell_type": "code",
   "execution_count": 18,
   "metadata": {},
   "outputs": [],
   "source": [
    "fPCE_prj_coefs,pce_inn_prj=gPCE2D_TP_cnstrct(n,xi,w,integFac,y_ex,distType=['Unif','Unif'])"
   ]
  },
  {
   "cell_type": "markdown",
   "metadata": {},
   "source": [
    "Now, we can estimate the stochastic moments of the Rosenbrock function with the assumed distributions for $q_1$ and $q_2$. "
   ]
  },
  {
   "cell_type": "code",
   "execution_count": 19,
   "metadata": {},
   "outputs": [
    {
     "name": "stdout",
     "output_type": "stream",
     "text": [
      "PCE-TP-Projection -----------\n",
      "E[f(q)] =  455.66666666666646\n",
      "V[f(q)] =  353054.55600907\n"
     ]
    }
   ],
   "source": [
    "#mean\n",
    "fPCE_prj_mean=fPCE_prj_coefs[0]\n",
    "\n",
    "#variance\n",
    "fPCE_prj_var=np.sum(fPCE_prj_coefs[1:]**2*pce_inn_prj[1:])\n",
    "\n",
    "print('PCE-TP-Projection -----------')\n",
    "print('E[f(q)] = ',fPCE_prj_mean)\n",
    "print('V[f(q)] = ',fPCE_prj_var)"
   ]
  },
  {
   "cell_type": "markdown",
   "metadata": {},
   "source": [
    "We can use the constructed PCE as a surrogate to evaluate the Rosenbrock functions over the whole range of variation of $q_1$ and $q_2$ and comapre the plot with what could be obtained from direct evaluation of the Rosenbrock functions. "
   ]
  },
  {
   "cell_type": "markdown",
   "metadata": {},
   "source": [
    "### Convergence of the stochastic mean and variance of the Rosenbrock function"
   ]
  },
  {
   "cell_type": "markdown",
   "metadata": {},
   "source": [
    "The exact moments of the Rosenbrock function for iid uniform distribution of $q_1$ and $q_2$ can be calculated by `rosenbrock.exactMoments()`."
   ]
  },
  {
   "cell_type": "code",
   "execution_count": 21,
   "metadata": {},
   "outputs": [],
   "source": [
    "mExct,vExct=rosenbrock.exactMoments(a,b,q_bound)"
   ]
  },
  {
   "cell_type": "markdown",
   "metadata": {},
   "source": [
    "Therefore, we can compare the error between stochastic mean and variance of $f(\\mathbf{q})$ estimated by the PCE (tensor-product truncation) and the exact values. Repeating this for various number of quadrature sample points, we can study the reduction of the errors. "
   ]
  },
  {
   "cell_type": "code",
   "execution_count": 22,
   "metadata": {},
   "outputs": [
    {
     "data": {
      "image/png": "[encoded data removed]",
      "text/plain": [
       "<Figure size 432x288 with 1 Axes>"
      ]
     },
     "metadata": {
      "needs_background": "light"
     },
     "output_type": "display_data"
    }
   ],
   "source": [
    "nList=[1,2,3,4,5,6,7,8,9,10]  #number of GQ points for q1 and q2\n",
    "m_err=[]\n",
    "v_err=[]\n",
    "for n_ in nList: \n",
    "    #create training data\n",
    "    xi,w,integFac,qGQ=gqRule([n_,n_],['Unif','Unif'],q_bound)    \n",
    "    qGQ_grid=np.vstack(np.meshgrid(qGQ[0],qGQ[1])).reshape(2,-1).T\n",
    "    y_=Rsbrk(a,b,qGQ_grid[:,0],qGQ_grid[:,1])  \n",
    "    \n",
    "    #Estimate E[f(q)] and V[f(q)] using PCE method\n",
    "    fPCE_prj_coefs,pce_inn_prj=gPCE2D_TP_cnstrct([n_,n_],xi,w,integFac,y_,distType=['Unif','Unif'])\n",
    "    fPCE_prj_var=np.sum(fPCE_prj_coefs[1:]**2*pce_inn_prj[1:])\n",
    "\n",
    "    m_err.append(abs(fPCE_prj_coefs[0]-mExct)/mExct)\n",
    "    v_err.append(abs(fPCE_prj_var-vExct)/vExct)\n",
    "\n",
    "#plot\n",
    "plt.semilogy(nList,m_err,'-ob',label=r'$\\mathbb{E}[f(q)]$')\n",
    "plt.semilogy(nList,v_err,'-xr',label=r'$\\mathbb{V}[f(q)]$')\n",
    "plt.xlabel('Number of GQ samples')\n",
    "plt.ylabel('Error')\n",
    "plt.legend()\n",
    "plt.grid()"
   ]
  },
  {
   "cell_type": "markdown",
   "metadata": {},
   "source": [
    "**Discussion**\n",
    "* Compare the above plot with that obained by using the Monte Carlo sampling method for the Rosenbrock function with the same random parameters. what can we say about the rate of convergence of estimated stochastic moments of the model function with number of samples in two methods?\n",
    "* Task: Plot the response surface of the "
   ]
  },
  {
   "cell_type": "markdown",
   "metadata": {},
   "source": [
    "### Total-order truncation with regression method\n",
    "Now, we would like to use the regression method for estimating the PCE coefficients. \n",
    "Here, we provide an option to create training samples from the parameters to be according to the Gauss-quadrature method or random sampling. \n",
    "Moreover, we use the total-order truncation scheme according to which the multi-index set is, \n",
    "\n",
    "$$\n",
    "\\begin{equation}\\label{eq:pceTO}\n",
    "\\Lambda^{\\rm{TOM}}_\\mathbf{k} = \\{\\mathbf{k}\\in\\mathbb{Z}^p_\\geq : \\sum_{i=1}^p k_i\\leq L \\} \\,.\n",
    "\\end{equation}\n",
    "$$\n",
    "\n",
    "Given a training dataset $\\{q^{(i)},f(q^{{i}})\\}_{i=1}^n$, the regression method solves a linear system to obtain the PCE coefficients $\\hat{\\mathbf{f}}=\\{\\hat{f}_1,\\hat{f}_2,\\cdots,\\hat{f}_K\\}$."
   ]
  },
  {
   "cell_type": "markdown",
   "metadata": {},
   "source": [
    "First we set the options for creating the training data and constructing the PCE."
   ]
  },
  {
   "cell_type": "code",
   "execution_count": 23,
   "metadata": {},
   "outputs": [],
   "source": [
    "n=[6,7]  #number of samples from each of the parameters\n",
    "LMax=6  #maximum sum of multi-indices in the TO scheme\n",
    "trainType='random'  #type of training samples 'random', 'GQ'"
   ]
  },
  {
   "cell_type": "markdown",
   "metadata": {},
   "source": [
    "The trainig data are created."
   ]
  },
  {
   "cell_type": "code",
   "execution_count": 24,
   "metadata": {},
   "outputs": [
    {
     "data": {
      "image/png": "[encoded data removed]",
      "text/plain": [
       "<Figure size 432x288 with 1 Axes>"
      ]
     },
     "metadata": {
      "needs_background": "light"
     },
     "output_type": "display_data"
    }
   ],
   "source": [
    "#Create training samples\n",
    "if trainType=='GQ':\n",
    "   xi_,w,integFac,qGQ=gqRule(n,['Unif','Unif'],q_bound)   \n",
    "   xi=np.vstack(np.meshgrid(xi_[0],xi_[1])).reshape(2,-1).T\n",
    "   q_grid=np.vstack(np.meshgrid(qGQ[0],qGQ[1])).reshape(2,-1).T\n",
    "elif trainType=='random':\n",
    "   xi=np.random.uniform(low=-1,high=1,size=(n[0]*n[1],2))  #uniform random from [-1,1]    \n",
    "   q_grid=np.zeros_like(xi)\n",
    "   for i in range(2):        \n",
    "       q_grid[:,i]=(0.5*(xi[:,i]+1.0)*(q_bound[i][1]-q_bound[i][0])+q_bound[i][0])\n",
    "\n",
    "#plot    \n",
    "plt.plot(q_grid[:,0],q_grid[:,1],'ob',ms=3)\n",
    "plt.xlabel(r'$q_1$')\n",
    "plt.ylabel(r'$q_2$')\n",
    "plt.title('Training paramaters samples')\n",
    "\n",
    "#Evaluate the Rosenbrock function at the training samples  \n",
    "yTO=Rsbrk(a,b,q_grid[:,0],q_grid[:,1])   "
   ]
  },
  {
   "cell_type": "markdown",
   "metadata": {},
   "source": [
    "The following function `gPCE2D_TO_cnstrct` constructs the PCE for two paramaters with uniform or Gaussian distributions, using total-order truncation scheme and regression method to compute the PCE coefficients."
   ]
  },
  {
   "cell_type": "code",
   "execution_count": 25,
   "metadata": {},
   "outputs": [],
   "source": [
    "def gPCE2D_TO_cnstrct(n,LMax,xi,f,distType):\n",
    "    \"\"\"\n",
    "    Construct a 2D PCE based on  Total-Order truncation scheme\n",
    "    (from my library)\n",
    "    `fGQ`: numpy array of ndim=number of parameters    \n",
    "    distType='Unif', 'Norm'\n",
    "    \"\"\"    \n",
    "    p=xi.shape[-1]\n",
    "    nData=len(f)\n",
    "    \n",
    "    K=int(mt.factorial(LMax+p)/(mt.factorial(LMax)*mt.factorial(p))) #upper bound of the PCE sum\n",
    "    print('n=%d, K=%d' %(nData,K))\n",
    "    Nmax=(LMax+1)**p\n",
    "    kOrderList=[LMax+1]*p    \n",
    "    \n",
    "    #compute inner-prodoct of the gPCE basis by quadrature rule\n",
    "    xiAux=[]\n",
    "    wAux=[]\n",
    "    fac=[]\n",
    "    for i in range(p):\n",
    "        xi_,w_,integFac_=gqPtsWts(n[i],distType[i])\n",
    "        xiAux.append(xi_)\n",
    "        wAux.append(w_)\n",
    "        fac.append(integFac_)    \n",
    "\n",
    "    #find the coefficients in the expansion\n",
    "    kSet=[]    #index set for the constructed PCE\n",
    "    kGlob=np.arange(Nmax)   #Global index\n",
    "    kLoc=kGlob.reshape(kOrderList,order='F')  #Local index\n",
    "    for i in range(Nmax):\n",
    "        k_=np.where(kLoc==kGlob[i])\n",
    "        kSet_=[]\n",
    "        for j in range(p): kSet_.append(k_[j][0])\n",
    "        if (sum(kSet_)<=LMax):\n",
    "           kSet.append(kSet_)       \n",
    "    \n",
    "    # Regression method to compute PCE coefficients\n",
    "    A=np.zeros((nData,K))    \n",
    "    if A.shape[1]<=A.shape[0]:\n",
    "       pce_inn=np.zeros(K)\n",
    "       for k in range(K):         \n",
    "           psi_k_=gPCE_basis(kSet[k][0],xiAux[0],distType[0])            \n",
    "           sum2_=np.sum(psi_k_**2*wAux[0])*fac[0]\n",
    "           aij_=gPCE_basis(kSet[k][0],xi[:,0],distType[0])\n",
    "           for i in range(1,p):\n",
    "               aij_*=gPCE_basis(kSet[k][i],xi[:,i],distType[i])\n",
    "               psi_k_=gPCE_basis(kSet[k][i],xiAux[i],distType[i])\n",
    "               sum2_*=np.sum(psi_k_**2*wAux[i])*fac[i]\n",
    "           A[:,k]=aij_\n",
    "           pce_inn[k]=sum2_\n",
    "    else:\n",
    "       raise ValueError(\"Reduce LMax so that K<nData is satisfied. Otherwise, compressed sensing method is needed.\") \n",
    "            \n",
    "    #Find the PCE coefficients by Regression\n",
    "    M=np.dot(A.T,A)   \n",
    "    R=np.dot(A.T,f)\n",
    "    fCoef=np.linalg.solve(M,R) \n",
    "        \n",
    "    return fCoef,pce_inn"
   ]
  },
  {
   "cell_type": "markdown",
   "metadata": {},
   "source": [
    "Call the function to obtain the PCE coefficients $\\hat{f}_k$ and $\\gamma_k$ for $k=1,2,\\cdots,K$."
   ]
  },
  {
   "cell_type": "code",
   "execution_count": 26,
   "metadata": {},
   "outputs": [
    {
     "name": "stdout",
     "output_type": "stream",
     "text": [
      "n=42, K=28\n"
     ]
    }
   ],
   "source": [
    "fPCE_reg_coefs,pce_inn_reg=gPCE2D_TO_cnstrct(n,LMax,xi,yTO,distType=['Unif','Unif'])"
   ]
  },
  {
   "cell_type": "code",
   "execution_count": 27,
   "metadata": {},
   "outputs": [
    {
     "name": "stdout",
     "output_type": "stream",
     "text": [
      "PCE-TO-Regression -----------\n",
      "E[f(q)] =  455.66666666666674\n",
      "V[f(q)] =  367915.32698412513\n"
     ]
    }
   ],
   "source": [
    "#mean\n",
    "fPCE_reg_mean=fPCE_reg_coefs[0]\n",
    "\n",
    "#variance\n",
    "fPCE_reg_var=np.sum(fPCE_reg_coefs[1:]**2*pce_inn_reg[1:])\n",
    "\n",
    "print('PCE-TO-Regression -----------')\n",
    "print('E[f(q)] = ',fPCE_reg_mean)\n",
    "print('V[f(q)] = ',fPCE_reg_var)"
   ]
  },
  {
   "cell_type": "markdown",
   "metadata": {},
   "source": [
    "**Discussion**\n",
    "* Compare the estimated moments with associated exact values as well as the moments estimated by the tensor product truncation (above). Can you make any conclusion?"
   ]
  }
 ],
 "metadata": {
  "kernelspec": {
   "display_name": "Python 3",
   "language": "python",
   "name": "python3"
  },
  "language_info": {
   "codemirror_mode": {
    "name": "ipython",
    "version": 3
   },
   "file_extension": ".py",
   "mimetype": "text/x-python",
   "name": "python",
   "nbconvert_exporter": "python",
   "pygments_lexer": "ipython3",
   "version": "3.7.4"
  }
 },
 "nbformat": 4,
 "nbformat_minor": 2
}

{
 "cells": [
  {
   "cell_type": "markdown",
   "metadata": {},
   "source": [
    "# Comparison between Different Methods for UQ Forward Problem\n",
    " **Saleh Rezaeiravesh and Philipp Schlatter** <br/> \n",
    " saleh.rezaeiravesh@manchester.ac.uk and pschlatt@mech.kth.se <br/> \n",
    " Modelling & Simulation, Department of Mechanical, Aerospace and Civil Engineering (MACE), The University of Manchester, UK <br/> \n",
    " SimEx/FLOW, Engineering Mechanics, KTH Royal Institute of Technology, Sweden\n",
    "___"
   ]
  },
  {
   "cell_type": "code",
   "execution_count": 1,
   "metadata": {},
   "outputs": [],
   "source": [
    "import sys\n",
    "import numpy as np\n",
    "import matplotlib.pyplot as plt\n",
    "import math as mt"
   ]
  },
  {
   "cell_type": "markdown",
   "metadata": {},
   "source": [
    "In this notebook, we compare the stochastic mean and variance of $y=f(q)$ for 1D parameter using three different methods:\n",
    "    \n",
    "* Perturbation method, \n",
    "* Monte Carlo Method,\n",
    "* Polynomial Chaos Expansion"
   ]
  },
  {
   "cell_type": "markdown",
   "metadata": {},
   "source": [
    "Consider the following algebraic equation,\n",
    "$$\n",
    "y=f(q)=q+0.7 \\sin(5 q) + 3 \\cos(q) \\,,\n",
    "$$\n",
    "which depends on parameter $q$. Here we assume, $q\\sim \\mathcal{N}(1,0.3^2)$ and use PCE to construct mean and variance of $f(q)$."
   ]
  },
  {
   "cell_type": "markdown",
   "metadata": {},
   "source": [
    "## Perturbation Method"
   ]
  },
  {
   "cell_type": "markdown",
   "metadata": {},
   "source": [
    "The sensitivity index reads as, \n",
    "\n",
    "$$\n",
    "s_q=\\frac{\\partial f}{\\partial q} = 1+3.5 \\cos(5q)-3\\sin(q).\n",
    "$$"
   ]
  },
  {
   "cell_type": "code",
   "execution_count": 33,
   "metadata": {},
   "outputs": [],
   "source": [
    "y1d= lambda q: q+0.7*np.sin(5*q)+3*np.cos(q)  #model function\n",
    "s  = lambda q: 1+3.5*np.cos(5*q)-3*np.sin(q)  # sensitivity"
   ]
  },
  {
   "cell_type": "code",
   "execution_count": 39,
   "metadata": {},
   "outputs": [
    {
     "name": "stdout",
     "output_type": "stream",
     "text": [
      "E[f(q)]= 1.9496599253402223\n",
      "V[f(q)]= 0.02543342117575942\n"
     ]
    }
   ],
   "source": [
    "#expectation of f(q)\n",
    "print(\"E[f(q)]=\",y1d(1))\n",
    "print(\"V[f(q)]=\",s(1)*0.3**2*s(1))"
   ]
  },
  {
   "cell_type": "markdown",
   "metadata": {},
   "source": [
    "## Monte Carlo Method"
   ]
  },
  {
   "cell_type": "code",
   "execution_count": 41,
   "metadata": {},
   "outputs": [],
   "source": [
    "nMC=100000  \n",
    "qMC=np.random.normal(loc=1,scale=0.3,size=nMC)\n",
    "yMC=qMC+0.7*np.sin(5*qMC)+3*np.cos(qMC)"
   ]
  },
  {
   "cell_type": "code",
   "execution_count": 42,
   "metadata": {},
   "outputs": [
    {
     "name": "stdout",
     "output_type": "stream",
     "text": [
      "Monte Carlo Method:\n",
      "E[f(q)]=2.33097 and V[f(q)]=0.233788\n"
     ]
    }
   ],
   "source": [
    "print('Monte Carlo Method:')\n",
    "print('E[f(q)]=%g and V[f(q)]=%g'  %(np.mean(yMC),np.var(yMC)))"
   ]
  },
  {
   "cell_type": "code",
   "execution_count": 43,
   "metadata": {},
   "outputs": [
    {
     "data": {
      "text/plain": [
       "Text(0, 0.5, 'y')"
      ]
     },
     "execution_count": 43,
     "metadata": {},
     "output_type": "execute_result"
    },
    {
     "data": {
      "image/png": "[encoded data removed]",
      "text/plain": [
       "<Figure size 432x288 with 1 Axes>"
      ]
     },
     "metadata": {
      "needs_background": "light"
     },
     "output_type": "display_data"
    }
   ],
   "source": [
    "#plot model function \n",
    "plt.plot(qMC,yMC,'o',alpha=0.1,ms=2,mfc='none')\n",
    "plt.grid(alpha=0.3)\n",
    "plt.xlabel('q')\n",
    "plt.ylabel('y')"
   ]
  },
  {
   "cell_type": "code",
   "execution_count": 44,
   "metadata": {},
   "outputs": [
    {
     "data": {
      "text/plain": [
       "Text(0.5, 0, 'y')"
      ]
     },
     "execution_count": 44,
     "metadata": {},
     "output_type": "execute_result"
    },
    {
     "data": {
      "image/png": "[encoded data removed]",
      "text/plain": [
       "<Figure size 1080x216 with 2 Axes>"
      ]
     },
     "metadata": {
      "needs_background": "light"
     },
     "output_type": "display_data"
    }
   ],
   "source": [
    "#Plot distribution of q and f(q)\n",
    "plt.figure(figsize=(15,3))\n",
    "plt.subplot(121)\n",
    "_=plt.hist(qMC,density=True,bins=80,alpha=0.3)\n",
    "plt.axvline(x=np.mean(qMC),color='red')\n",
    "plt.xlabel('q')\n",
    "plt.subplot(122)\n",
    "_=plt.hist(yMC,density=True,bins=80,alpha=0.3)\n",
    "plt.axvline(x=np.mean(yMC),color='red')\n",
    "plt.xlabel('y')"
   ]
  },
  {
   "cell_type": "markdown",
   "metadata": {},
   "source": [
    "## Polynomial Chaos Expansion"
   ]
  },
  {
   "cell_type": "markdown",
   "metadata": {},
   "source": [
    "Basis functions based on the generalized PCE (only for uniform and normal distributions)"
   ]
  },
  {
   "cell_type": "code",
   "execution_count": 45,
   "metadata": {},
   "outputs": [],
   "source": [
    "#gPCE basis taken from UQit\n",
    "def gPCE_basis(n_,xi_,distType_):\n",
    "    \"\"\"\n",
    "    Evaluates gPCE polynomial basis of order `n_` at `xi_` points taken from the mapped \n",
    "    space :math:`\\Gamma`.\n",
    "    The standard polynomials are chosen based on the gPCE rules.        \n",
    "    Args:\n",
    "      `n_`: int\n",
    "         Order of the basis\n",
    "      `xi_`: 1D numpy array of size m\n",
    "         Points taken from the mapped space\n",
    "      `distType_`: string\n",
    "         Distribution type of the random parameter (based on the gPCE rule)\n",
    "       \n",
    "    Returns:\n",
    "      `psi`: 1D numpy array of size m\n",
    "         Values of the gPCE basis at `xi_`     \n",
    "    \"\"\"\n",
    "    if distType_=='Unif':\n",
    "       psi=np.polynomial.legendre.legval(xi_,[0]*n_+[1])\n",
    "    elif distType_=='Norm':\n",
    "       psi=np.polynomial.hermite_e.hermeval(xi_,[0]*n_+[1])\n",
    "    return psi"
   ]
  },
  {
   "cell_type": "markdown",
   "metadata": {},
   "source": [
    "Function `gqPtsWts()` returns the quadrature nodes and weights based on the gauss-quadrature rule given the number of quadrature points and standard distribution of the random variable (only uniform and Gaussian distributions are implemented here)."
   ]
  },
  {
   "cell_type": "code",
   "execution_count": 46,
   "metadata": {},
   "outputs": [],
   "source": [
    "#Gauss-Quadrature rule, taken from UQit\n",
    "def gqPtsWts(n_,distType_):\n",
    "    \"\"\"\n",
    "    Gauss quadrature nodes and weights associated to distribution type `type_`\n",
    "    based on the gPCE rule.\n",
    "    Args:\n",
    "       `n_`: int, \n",
    "           Order of the gPCE polynomial.\n",
    "       `type_`: string, \n",
    "           Distribution of the random variable according to the gPCE rule\n",
    "    Returns:\n",
    "       `quads`: 1D numpy array of size `n_` \n",
    "        Gauss quadrature nodes\n",
    "        `weights`: 1D numpy array of size `n_` \n",
    "        Gauss quadrature weights\n",
    "    \"\"\"\n",
    "    if distType_=='Unif':\n",
    "       x_=np.polynomial.legendre.leggauss(n_)\n",
    "    elif distType_=='Norm':\n",
    "       x_=np.polynomial.hermite_e.hermegauss(n_)\n",
    "    quads=x_[0]\n",
    "    weights=x_[1]    \n",
    "    #Multipliers for the Gauss-quadrature integration rule, when using the weights provided by numpy.    \n",
    "    if distType_=='Unif':\n",
    "       fac_=0.5\n",
    "    elif distType_=='Norm':\n",
    "       fac_=1./mt.sqrt(2*mt.pi)\n",
    "    return quads,weights,fac_"
   ]
  },
  {
   "cell_type": "markdown",
   "metadata": {},
   "source": [
    "Function `gqRule()` uses `gqPtsWts()` and works for one or more uncertain parameters. It also maps $\\xi\\in\\Gamma$ to $q\\in\\mathbb{Q}$ for Uniform and Gaussian distributions."
   ]
  },
  {
   "cell_type": "code",
   "execution_count": 47,
   "metadata": {},
   "outputs": [],
   "source": [
    "def gqRule(n,distType,qInfo):\n",
    "    \"\"\"\n",
    "    Weight and xi\\in\\Gamma based on the GQ rule    \n",
    "    Args:\n",
    "        `n`: list of GQ points for each parameter\n",
    "        `distType`: list of distribution type of the parameters, 'Unif', 'Norm'\n",
    "        `qInfo`: List of length 2 (optional)       \n",
    "            `qInfo`=[qMin,qMax] if distType=='Unif'\n",
    "            `qInfo`=[mean,sdev] if distType=='Norm'\n",
    "    \"\"\"\n",
    "    p=len(distType)   #dimenionality of the parameters\n",
    "    \n",
    "    xi=[]\n",
    "    w=[]\n",
    "    integFac=[]\n",
    "    qGQ=[]    \n",
    "    for i in range(p):\n",
    "        xi_,w_,fac_=gqPtsWts(n[i],distType[i])    \n",
    "        xi.append(xi_)\n",
    "        w.append(w_)\n",
    "        integFac.append(fac_)\n",
    "        if distType[i]=='Unif':\n",
    "           qGQ.append((0.5*(xi_+1.0)*(qInfo[i][1]-qInfo[i][0])+qInfo[i][0]))\n",
    "        elif distType[i]=='Norm':\n",
    "           qGQ.append(qInfo[i][0]+qInfo[i][1]*xi_)\n",
    "    return xi,w,integFac,qGQ   "
   ]
  },
  {
   "cell_type": "markdown",
   "metadata": {},
   "source": [
    "The following small python function shows an implementation of PCE:"
   ]
  },
  {
   "cell_type": "code",
   "execution_count": 48,
   "metadata": {},
   "outputs": [],
   "source": [
    "def gPCE1D_cnstrct(nGQ,xi,w,integFac,fGQ,distType):\n",
    "    \"\"\"\n",
    "    Construct PCE for one parameter    \n",
    "    \n",
    "    `fGQ`: numpy array of size n\n",
    "    distType='Unif', 'Norm'\n",
    "    \"\"\"    \n",
    "    K=nGQ\n",
    "    \n",
    "    fCoef=np.zeros(K)   #PCE Coefficients\n",
    "    pce_inn=np.zeros(K) #PCE inner-product\n",
    "    \n",
    "    for k in range(nGQ): \n",
    "        psi_k=gPCE_basis(k,xi,distType)        \n",
    "        \n",
    "        sum1=np.sum(fGQ*psi_k[0]*w[0])\n",
    "        sum2= np.sum(psi_k[0]**2.*w[0])\n",
    "        \n",
    "        fCoef[k]=sum1/sum2\n",
    "        pce_inn[k]=sum2*integFac[0]\n",
    "        \n",
    "    return fCoef,pce_inn"
   ]
  },
  {
   "cell_type": "markdown",
   "metadata": {},
   "source": [
    "**PCE** Here we construct the PCE:"
   ]
  },
  {
   "cell_type": "code",
   "execution_count": 49,
   "metadata": {},
   "outputs": [],
   "source": [
    "y1d= lambda q: q+0.7*np.sin(5*q)+3*np.cos(q)  #model function"
   ]
  },
  {
   "cell_type": "code",
   "execution_count": 50,
   "metadata": {},
   "outputs": [],
   "source": [
    "nPCE=8             #number of Gauss-Hermite samples\n",
    "qInfo_=[1,0.3]  #mean and standard-deviation of q\n",
    "\n",
    "#Create training samples\n",
    "xi,w,integFac,qGQ=gqRule([nPCE],distType=['Norm'],qInfo=[qInfo_])\n",
    "yPCE=y1d(qGQ[0])"
   ]
  },
  {
   "cell_type": "code",
   "execution_count": 51,
   "metadata": {},
   "outputs": [
    {
     "name": "stdout",
     "output_type": "stream",
     "text": [
      "PCE:\n",
      "E[f(q)]=2.33166 and V[f(q)]=0.231702\n"
     ]
    }
   ],
   "source": [
    "#Construct the PCE\n",
    "fCoef1,pce_inn1=gPCE1D_cnstrct(nPCE,xi,w,integFac,yPCE,'Norm')\n",
    "\n",
    "#Estimate mean and variance of f(q)\n",
    "m1=fCoef1[0]\n",
    "s1=np.sum(fCoef1[1:]**2*pce_inn1[1:])\n",
    "\n",
    "print(\"PCE:\")\n",
    "print('E[f(q)]=%g and V[f(q)]=%g' %(m1,s1))"
   ]
  },
  {
   "cell_type": "markdown",
   "metadata": {},
   "source": [
    "### Discussion\n",
    "* Compare the mean and variance of $f(q)$ estimated by different approaches.\n",
    "* Which one is more efficient (more accurate and less expensive)?"
   ]
  },
  {
   "cell_type": "code",
   "execution_count": 52,
   "metadata": {},
   "outputs": [],
   "source": [
    "#Create test samples\n",
    "nTest=nMC\n",
    "xiTest=np.random.normal(size=nTest)   #~N(0,1)\n",
    "#qTest=qInfo_[0]+qInfo_[1]*xiTest\n",
    "\n",
    "K=len(fCoef1)\n",
    "val_=np.zeros(nTest)\n",
    "for k in range(K):\n",
    "    psi_k=gPCE_basis(k,xiTest,'Norm')\n",
    "    val_+=psi_k*fCoef1[k]"
   ]
  },
  {
   "cell_type": "code",
   "execution_count": 53,
   "metadata": {},
   "outputs": [
    {
     "name": "stdout",
     "output_type": "stream",
     "text": [
      "2.3288903002199133 0.22985421292968625\n"
     ]
    },
    {
     "data": {
      "image/png": "[encoded data removed]",
      "text/plain": [
       "<Figure size 432x288 with 1 Axes>"
      ]
     },
     "metadata": {
      "needs_background": "light"
     },
     "output_type": "display_data"
    }
   ],
   "source": [
    "plt.plot(val_,'ob',ms=2)\n",
    "print(np.mean(val_),np.var(val_))"
   ]
  },
  {
   "cell_type": "code",
   "execution_count": 54,
   "metadata": {},
   "outputs": [
    {
     "data": {
      "image/png": "[encoded data removed]",
      "text/plain": [
       "<Figure size 432x288 with 1 Axes>"
      ]
     },
     "metadata": {
      "needs_background": "light"
     },
     "output_type": "display_data"
    }
   ],
   "source": [
    "_=plt.hist(val_,bins=70)"
   ]
  },
  {
   "cell_type": "code",
   "execution_count": null,
   "metadata": {},
   "outputs": [],
   "source": []
  }
 ],
 "metadata": {
  "kernelspec": {
   "display_name": "Python 3",
   "language": "python",
   "name": "python3"
  },
  "language_info": {
   "codemirror_mode": {
    "name": "ipython",
    "version": 3
   },
   "file_extension": ".py",
   "mimetype": "text/x-python",
   "name": "python",
   "nbconvert_exporter": "python",
   "pygments_lexer": "ipython3",
   "version": "3.7.4"
  }
 },
 "nbformat": 4,
 "nbformat_minor": 2
}

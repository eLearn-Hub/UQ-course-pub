{
 "cells": [
  {
   "cell_type": "markdown",
   "metadata": {},
   "source": [
    "# Least-squares Methods for Inverse Problems\n",
    " **Saleh Rezaeiravesh and Philipp Schlatter** <br/> \n",
    " saleh.rezaeiravesh@manchester.ac.uk and pschlatt@mech.kth.se <br/> \n",
    " Modelling & Simulation, Department of Mechanical, Aerospace and Civil Engineering (MACE), The University of Manchester, UK <br/> \n",
    " SimEx/FLOW, Engineering Mechanics, KTH Royal Institute of Technology, Sweden\n",
    "___"
   ]
  },
  {
   "cell_type": "code",
   "execution_count": 1,
   "metadata": {},
   "outputs": [],
   "source": [
    "import sys\n",
    "import numpy as np\n",
    "from numpy.linalg import inv\n",
    "from scipy.optimize import curve_fit\n",
    "import math as mt\n",
    "import matplotlib.pyplot as plt\n",
    "sys.path.append('./modules')\n",
    "import grafix\n",
    "import pipeDNSdata"
   ]
  },
  {
   "cell_type": "markdown",
   "metadata": {},
   "source": [
    "### Learning Objectives\n",
    "* Understanding the frequentist view on inverse problem\n",
    "* Estimation of the parameters from uncertain data\n",
    "* Apply the least-square estimator to a few physically-relevant problems. "
   ]
  },
  {
   "cell_type": "markdown",
   "metadata": {},
   "source": [
    "## Example: Log Law of the Wall (Linear Model)"
   ]
  },
  {
   "cell_type": "markdown",
   "metadata": {},
   "source": [
    "$$\n",
    "u^+=\\frac{1}{\\kappa} \\log(y^+)+B\n",
    "$$\n",
    "where $u^+=u/u_\\tau$, $y^+=yu_\\tau/\\nu$, $y$ is distance from the wall, $u$ is the time-averaged velocity, $\\nu$ is kinematic viscosity, and $u_\\tau$ is wall frcition velocity defined as $u_\\tau=\\sqrt{\\tau_w}{\\rho}$ with $\\rho$ and $\\tau_w$ being fluid density and wall shear stress, respectively. "
   ]
  },
  {
   "cell_type": "code",
   "execution_count": 2,
   "metadata": {},
   "outputs": [],
   "source": [
    "db=pipeDNSdata.read()    "
   ]
  },
  {
   "cell_type": "code",
   "execution_count": 3,
   "metadata": {},
   "outputs": [],
   "source": [
    "def dataSelector_logLaw(Re,db):\n",
    "    \"\"\"\n",
    "    Select y+ within a given range\n",
    "    \"\"\"    \n",
    "    db_=db['Re'+str(Re)]\n",
    "    I=np.where(db_['y+']<0.2*Re)[0]\n",
    "    I2=np.where(150<db_['y+'])[0]    \n",
    "    return db_['uTau'],db_['y+'][I2[0]:I[-1]],db_['Uz+'][I2[0]:I[-1]]\n",
    "\n",
    "#extract the (y+,u+) data in the range of validity of the wall function\n",
    "uTau,yp,up0=dataSelector_logLaw(5200,db)"
   ]
  },
  {
   "cell_type": "code",
   "execution_count": 4,
   "metadata": {},
   "outputs": [
    {
     "name": "stdout",
     "output_type": "stream",
     "text": [
      "Number of observed data:  241\n"
     ]
    }
   ],
   "source": [
    "up=up0+0.25*np.random.normal(loc=0,scale=1,size=yp.shape[0])\n",
    "n=len(up)\n",
    "print('Number of observed data: ',n)"
   ]
  },
  {
   "cell_type": "code",
   "execution_count": 5,
   "metadata": {},
   "outputs": [
    {
     "data": {
      "image/png": "[encoded data removed]",
      "text/plain": [
       "<Figure size 504x288 with 1 Axes>"
      ]
     },
     "metadata": {
      "needs_background": "light"
     },
     "output_type": "display_data"
    }
   ],
   "source": [
    "plt.figure(figsize=(7,4))\n",
    "plt.plot(yp,up,'ob',ms=2)\n",
    "plt.xlabel(r'$y^+$')\n",
    "plt.ylabel(r'$u_z^+$')\n",
    "plt.show()"
   ]
  },
  {
   "cell_type": "markdown",
   "metadata": {},
   "source": [
    "The corresponding statsitical equation with additive error assumption is written as, \n",
    "\n",
    "$$\n",
    "\\begin{equation}\n",
    "u^+_i = \\frac{1}{\\kappa}\\log(y^+_i) + B + \\varepsilon_i \\,,\\quad i=1,2,\\cdots,n\n",
    "\\end{equation}\n",
    "$$\n",
    "\n",
    "which can be written in the matrix form as, \n",
    "\n",
    "$$\n",
    "\\begin{equation}\n",
    "  \\begin{bmatrix}\n",
    "  u^+_1\\\\  u^+_2\\\\\\cdots \\\\u^+_n\n",
    "  \\end{bmatrix}     \n",
    "    = \n",
    "  \\begin{bmatrix}  \n",
    "  \\log(y^+_1) & 1\\\\\n",
    "  \\log(y^+_2) & 1\\\\\n",
    "  \\cdots & \\cdots\\\\\n",
    "  \\log(y^+_n) & 1\\\\\n",
    "  \\end{bmatrix}  \n",
    "  \\begin{bmatrix}\n",
    "  1/\\kappa \\\\\n",
    "  B\n",
    "  \\end{bmatrix}\n",
    "  + \n",
    "  \\begin{bmatrix}\n",
    "  \\varepsilon_1 \\\\\n",
    "  \\varepsilon_2 \\\\\n",
    "  \\cdots\\\\\n",
    "  \\varepsilon_n \n",
    "  \\end{bmatrix} \\,,\n",
    "\\end{equation}\n",
    "$$\n",
    "\n",
    "or, \n",
    "\n",
    "$$\n",
    "\\mathbf{Y}=\\mathbf{G}\\mathbf{\\Theta} + \\mathcal{E} \\,.\n",
    "$$\n",
    "\n",
    "Applying the OLS, leads to \n",
    "\n",
    "$$\n",
    "\\hat{\\mathbf{\\Theta}} = (\\mathbf{G}^T\\mathbf{G})^{-1}\\mathbf{G}^T \\mathbf{Y}\n",
    "$$"
   ]
  },
  {
   "cell_type": "code",
   "execution_count": 6,
   "metadata": {},
   "outputs": [],
   "source": [
    "def logLaw_LSE(yp,up):\n",
    "    \"\"\"\n",
    "    Estimation of kappa and B in the log law using OLSE\n",
    "    \"\"\"\n",
    "    G=np.vstack((np.log(yp),np.ones(len(yp)))).T\n",
    "    theta=inv(G.T@G)@G.T@up\n",
    "    return theta,G"
   ]
  },
  {
   "cell_type": "code",
   "execution_count": 7,
   "metadata": {},
   "outputs": [
    {
     "name": "stdout",
     "output_type": "stream",
     "text": [
      "kappa=0.376371, B=4.02685\n"
     ]
    }
   ],
   "source": [
    "theta,Xlog=logLaw_LSE(yp,up)\n",
    "kap0=1/theta[0]\n",
    "B0=theta[1]\n",
    "print('kappa=%g, B=%g'%(kap0,B0))"
   ]
  },
  {
   "cell_type": "markdown",
   "metadata": {},
   "source": [
    "We should not see any trend in the residuals. This can be examined by plotting the residuals."
   ]
  },
  {
   "cell_type": "code",
   "execution_count": 8,
   "metadata": {},
   "outputs": [
    {
     "name": "stdout",
     "output_type": "stream",
     "text": [
      "(241,)\n"
     ]
    },
    {
     "data": {
      "text/plain": [
       "Text(0, 0.5, 'Residuals')"
      ]
     },
     "execution_count": 8,
     "metadata": {},
     "output_type": "execute_result"
    },
    {
     "data": {
      "image/png": "[encoded data removed]",
      "text/plain": [
       "<Figure size 432x288 with 1 Axes>"
      ]
     },
     "metadata": {
      "needs_background": "light"
     },
     "output_type": "display_data"
    }
   ],
   "source": [
    "R=up-theta[0]*np.log(yp)-theta[1]\n",
    "print(R.shape)\n",
    "\n",
    "plt.plot(R,'ob',ms=3)\n",
    "plt.ylabel('Residuals')"
   ]
  },
  {
   "cell_type": "markdown",
   "metadata": {},
   "source": [
    "Next, we estimated the variance of the iid Gaussian noise."
   ]
  },
  {
   "cell_type": "code",
   "execution_count": 9,
   "metadata": {},
   "outputs": [
    {
     "name": "stdout",
     "output_type": "stream",
     "text": [
      "sdev of the noise in the data = 0.249282\n"
     ]
    }
   ],
   "source": [
    "var_log=R.T@R/(n-2)\n",
    "print('sdev of the noise in the data = %g' %(mt.sqrt(var_log)))"
   ]
  },
  {
   "cell_type": "markdown",
   "metadata": {},
   "source": [
    "Finally, we estimate the confidence interval for the estimated parameters. This can be through the estimation of the covariance matrix of the calibration parameters."
   ]
  },
  {
   "cell_type": "code",
   "execution_count": 10,
   "metadata": {},
   "outputs": [
    {
     "name": "stdout",
     "output_type": "stream",
     "text": [
      "[[ 0.00086074 -0.00525659]\n",
      " [-0.00525659  0.03236002]]\n"
     ]
    }
   ],
   "source": [
    "covMat_log=var_log*inv(Xlog.T@Xlog)\n",
    "print(covMat_log)"
   ]
  },
  {
   "cell_type": "markdown",
   "metadata": {},
   "source": [
    "For a specific percentage of confidence interval, we can look up the multiplier value from the [t-table](https://www.sjsu.edu/faculty/gerstman/StatPrimer/t-table.pdf). \n",
    "For instance, for $95%$ confidence interval, the multiplier is $1.96$. "
   ]
  },
  {
   "cell_type": "code",
   "execution_count": 11,
   "metadata": {},
   "outputs": [
    {
     "name": "stdout",
     "output_type": "stream",
     "text": [
      "95 % CI for 1/kappa =  [2.5994476475346193, 2.7144543433497255]\n",
      "95 % CI for B =  [3.6742671299272773, 4.379431651307393]\n"
     ]
    }
   ],
   "source": [
    "kap_log=[theta[0]-1.96*mt.sqrt(covMat_log[0,0]),theta[0]+1.96*mt.sqrt(covMat_log[0,0])]\n",
    "B_log=[theta[1]-1.96*mt.sqrt(covMat_log[1,1]),theta[1]+1.96*mt.sqrt(covMat_log[1,1])]\n",
    "\n",
    "print('95 % CI for 1/kappa = ',kap_log)\n",
    "print('95 % CI for B = ',B_log)"
   ]
  },
  {
   "cell_type": "markdown",
   "metadata": {},
   "source": [
    "Finally, we plot the calibrated log law and the training data. "
   ]
  },
  {
   "cell_type": "code",
   "execution_count": 12,
   "metadata": {},
   "outputs": [
    {
     "data": {
      "image/png": "[encoded data removed]",
      "text/plain": [
       "<Figure size 504x288 with 1 Axes>"
      ]
     },
     "metadata": {
      "needs_background": "light"
     },
     "output_type": "display_data"
    }
   ],
   "source": [
    "plt.figure(figsize=(7,4))\n",
    "plt.plot(yp,up,'ob',ms=2,label='Noisy data')\n",
    "plt.plot(yp,up0,'x k',ms=4,label='Exact data')\n",
    "plt.plot(yp,theta[0]*np.log(yp)+theta[1],'--r',label='Calibrated func')\n",
    "\n",
    "plt.legend()\n",
    "plt.xlabel(r'$y^+$')\n",
    "plt.ylabel(r'$u_z^+$')\n",
    "plt.show()"
   ]
  },
  {
   "cell_type": "markdown",
   "metadata": {},
   "source": [
    "## Example: Projectile Motion (Nonlinear Model)\n",
    "Consider a projectile of mass $m$ that is projected with initial velocity $v_0$ and angle $\\alpha$ (measured from horizontal plane) into the Earth's gravitational field ($g=9.81 \\, m^2/s$).\n",
    "We can show that the projectile's horizontal and vertical locations $x$ and $y$, respectively, over time $t$ are given by (see e.g. [here](https://en.wikipedia.org/wiki/Projectile_motion)):\n",
    "\n",
    "$$\n",
    "x=v_0\\cos(\\alpha)t,\n",
    "y=v_0\\sin(\\alpha)t - gt^2/2 \\,,\n",
    "$$\n",
    "where the initial location is assumed to be at the $x=0$ and $y=0$. \n",
    "Removing $t$ between these two expressions leads to the following expression for the projectile's path:\n",
    "\n",
    "$$\n",
    "\\begin{equation}\n",
    "y=\\tan(\\alpha) x - \\frac{g}{2v_0^2\\cos^2(\\alpha)}x^2 = f(x,\\mathbf{\\Theta}) \\,,\n",
    "\\end{equation}\n",
    "$$\n",
    "\n",
    "where $\\mathbf{\\Theta}=[\\alpha,v_0]$ and $g=9.81$ is fixed.\n",
    "\n",
    "The following function is a simple implementation of this expression."
   ]
  },
  {
   "cell_type": "code",
   "execution_count": 13,
   "metadata": {},
   "outputs": [],
   "source": [
    "def yProjectile(x,alpha,v0):\n",
    "    \"\"\"\n",
    "    Projectile's vertical position \n",
    "    \"\"\"\n",
    "    g=9.81\n",
    "    y=x*mt.tan(alpha)-g*x**2/(2*v0**2*mt.cos(alpha)**2)\n",
    "    return y"
   ]
  },
  {
   "cell_type": "markdown",
   "metadata": {},
   "source": [
    "Here, we have three model parameters: $\\alpha$, $g$, and $v_0$. Our task here is to infer the values of these parameters given a set of uncertain data for $(x,y)$. \n",
    "\n",
    "First, we use `yProjectile()` to create `n` synthetic data for $x$ and $y$. "
   ]
  },
  {
   "cell_type": "code",
   "execution_count": 14,
   "metadata": {},
   "outputs": [],
   "source": [
    "nProj=200   #number of synthetic data\n",
    "\n",
    "#fixed x values\n",
    "xProj=np.linspace(0,8,nProj)   \n",
    "\n",
    "#true values of the parameters\n",
    "alpha0=mt.pi/3\n",
    "v00=10\n",
    "noiseLevel=0.3\n",
    "\n",
    "\n",
    "#create synthetic data\n",
    "epsProj=np.random.normal(loc=0,scale=noiseLevel,size=nProj)\n",
    "yProj=yProjectile(xProj,alpha0,v00)+epsProj"
   ]
  },
  {
   "cell_type": "code",
   "execution_count": 15,
   "metadata": {},
   "outputs": [
    {
     "data": {
      "text/plain": [
       "Text(0, 0.5, 'y')"
      ]
     },
     "execution_count": 15,
     "metadata": {},
     "output_type": "execute_result"
    },
    {
     "data": {
      "image/png": "[encoded data removed]",
      "text/plain": [
       "<Figure size 504x288 with 1 Axes>"
      ]
     },
     "metadata": {
      "needs_background": "light"
     },
     "output_type": "display_data"
    }
   ],
   "source": [
    "#plot noisy data\n",
    "plt.figure(figsize=(7,4))\n",
    "plt.plot(xProj,yProj,'ob',ms=2)\n",
    "plt.xlabel('x')\n",
    "plt.ylabel('y')"
   ]
  },
  {
   "cell_type": "markdown",
   "metadata": {},
   "source": [
    "To estimate $\\mathbf{\\Theta}=[\\alpha,v_0]$ and noise level, we apply the LSE as shortly described above. Given that the dependency of $y$ on the parameters is non-linear, we need to use a non-linear LSE. To this end, we use the existing [`scipy.optimize.curve_fit`](https://docs.scipy.org/doc/scipy/reference/generated/scipy.optimize.curve_fit.html#scipy.optimize.curve_fit)."
   ]
  },
  {
   "cell_type": "code",
   "execution_count": 16,
   "metadata": {},
   "outputs": [],
   "source": [
    "thetaProj, pcovProj = curve_fit(yProjectile, xProj, yProj,bounds=(0,[2,20]),method='dogbox')"
   ]
  },
  {
   "cell_type": "markdown",
   "metadata": {},
   "source": [
    "The mean of the estimated parameters are the following which can be compared to the associated true values used to create the synthetic data."
   ]
  },
  {
   "cell_type": "code",
   "execution_count": 17,
   "metadata": {},
   "outputs": [
    {
     "name": "stdout",
     "output_type": "stream",
     "text": [
      "  Estimated Parameters vs True Values\n",
      "alpha: 1.04974 , 1.0472\n",
      "v0: 10.0084 , 10\n"
     ]
    }
   ],
   "source": [
    "print('  Estimated Parameters vs True Values')\n",
    "print('alpha: %g , %g' %(thetaProj[0],alpha0))\n",
    "print('v0: %g , %g' %(thetaProj[1],v00))"
   ]
  },
  {
   "cell_type": "markdown",
   "metadata": {},
   "source": [
    "Plot the residuals: "
   ]
  },
  {
   "cell_type": "code",
   "execution_count": 18,
   "metadata": {},
   "outputs": [],
   "source": [
    "Rproj=yProj-yProjectile(xProj,thetaProj[0],thetaProj[1])"
   ]
  },
  {
   "cell_type": "code",
   "execution_count": 19,
   "metadata": {},
   "outputs": [
    {
     "data": {
      "text/plain": [
       "Text(0, 0.5, 'Residuals')"
      ]
     },
     "execution_count": 19,
     "metadata": {},
     "output_type": "execute_result"
    },
    {
     "data": {
      "image/png": "[encoded data removed]",
      "text/plain": [
       "<Figure size 432x288 with 1 Axes>"
      ]
     },
     "metadata": {
      "needs_background": "light"
     },
     "output_type": "display_data"
    }
   ],
   "source": [
    "plt.plot(Rproj,'ob',ms=2)\n",
    "plt.ylabel('Residuals')"
   ]
  },
  {
   "cell_type": "markdown",
   "metadata": {},
   "source": [
    "The variance of the Gaussian noise can be estimated as,"
   ]
  },
  {
   "cell_type": "code",
   "execution_count": 20,
   "metadata": {},
   "outputs": [
    {
     "name": "stdout",
     "output_type": "stream",
     "text": [
      "sdev of the noise in the data = 0.249282\n"
     ]
    }
   ],
   "source": [
    "var_proj=Rproj.T@Rproj/(n-2)\n",
    "print('sdev of the noise in the data = %g' %(mt.sqrt(var_log)))"
   ]
  },
  {
   "cell_type": "markdown",
   "metadata": {},
   "source": [
    "Since the projectile $y$ is a non-linear of parameters $\\mathbf{\\Theta}$, we need to compute the local sensitivities of $y$ to the parameters in order to obtain an estimate for the covariance matrix of the estimated parameters. The local sensitivities are derived as,\n",
    "\n",
    "$$\n",
    "\\begin{eqnarray}\n",
    "\\frac{\\partial f}{\\partial \\alpha} &=& \\frac{x}{\\cos^2(\\alpha)} -\\frac{g x^2 \\sin(\\alpha)}{v_0^2\\cos^3(\\alpha)} \\,, \\\\\n",
    "\\frac{\\partial f}{\\partial v_0} &=& \\frac{g x^2}{v_0^3\\cos^2(\\alpha)} \\,.\n",
    "\\end{eqnarray}\n",
    "$$\n",
    "\n",
    "Using the training data $\\{(x_i,y_i)\\}_{i=1}^n$, the $ n\\times 2$ sensitivity matrix $\\mathbf{X}$ is constructed, where $X_{ij}(\\mathbf{\\Theta}) = \\frac{\\partial f(x_i,\\Theta)}{\\partial \\Theta_j}$ evaluated at the mean of the estimated parameters. "
   ]
  },
  {
   "cell_type": "code",
   "execution_count": 21,
   "metadata": {},
   "outputs": [],
   "source": [
    "def projectile_sensMatrix(x,param):\n",
    "    \"\"\"\n",
    "    Compute the sensitivity matrix of the projectile model function at x and given parameters\n",
    "    \"\"\"\n",
    "    g=9.81\n",
    "    alpha=param[0]    \n",
    "    v0=param[1]\n",
    "        \n",
    "    X_alpha=x/mt.cos(alpha)**2 - g*x**2*mt.sin(alpha)/(v0**2*mt.cos(alpha)**3)\n",
    "    X_v0=g*x**2/(v0**3*mt.cos(alpha)**2)\n",
    "    X=np.vstack((X_alpha,X_v0)).T\n",
    "    return X"
   ]
  },
  {
   "cell_type": "code",
   "execution_count": 22,
   "metadata": {},
   "outputs": [
    {
     "name": "stdout",
     "output_type": "stream",
     "text": [
      "(200, 2)\n"
     ]
    }
   ],
   "source": [
    "Xproj=projectile_sensMatrix(xProj,thetaProj)\n",
    "print(Xproj.shape)"
   ]
  },
  {
   "cell_type": "markdown",
   "metadata": {},
   "source": [
    "Using the estimated noise variance and the sensitivity matrix, the covariance of the estimated parameters can be computed. Note that `scipy.optimize.curve_fit` also returns `pcovProj` which should be identical with what we compute here."
   ]
  },
  {
   "cell_type": "code",
   "execution_count": 23,
   "metadata": {},
   "outputs": [
    {
     "name": "stdout",
     "output_type": "stream",
     "text": [
      "Covaraince matrix of the parameters:\n",
      "Computed: [[1.70658592e-05 2.57608641e-05]\n",
      " [2.57608641e-05 3.27512498e-04]]\n",
      "Scipy: [[2.05996976e-05 3.10951901e-05]\n",
      " [3.10951901e-05 3.95330778e-04]]\n"
     ]
    }
   ],
   "source": [
    "covMat_proj=var_proj*inv(Xproj.T@Xproj)\n",
    "print('Covaraince matrix of the parameters:')\n",
    "print('Computed:',covMat_proj)\n",
    "print('Scipy:',pcovProj)"
   ]
  },
  {
   "cell_type": "markdown",
   "metadata": {},
   "source": [
    "The $95\\%$ confidence interval of the estimated parameters can be computed."
   ]
  },
  {
   "cell_type": "code",
   "execution_count": 24,
   "metadata": {},
   "outputs": [
    {
     "name": "stdout",
     "output_type": "stream",
     "text": [
      "95 % CI for alpha =  [1.0416448913520464, 1.0578387425989464]\n",
      "95 % CI for v0 =  [9.97291521877793, 10.043856659749308]\n"
     ]
    }
   ],
   "source": [
    "alpha_proj=[thetaProj[0]-1.96*mt.sqrt(covMat_proj[0,0]),thetaProj[0]+1.96*mt.sqrt(covMat_proj[0,0])]\n",
    "v0_proj=[thetaProj[1]-1.96*mt.sqrt(covMat_proj[1,1]),thetaProj[1]+1.96*mt.sqrt(covMat_proj[1,1])]\n",
    "\n",
    "\n",
    "print('95 % CI for alpha = ',alpha_proj)\n",
    "print('95 % CI for v0 = ',v0_proj)"
   ]
  },
  {
   "cell_type": "markdown",
   "metadata": {},
   "source": [
    "Finally, we can plot the calibrated function to compare with the true values and training data."
   ]
  },
  {
   "cell_type": "code",
   "execution_count": 25,
   "metadata": {},
   "outputs": [
    {
     "data": {
      "image/png": "[encoded data removed]",
      "text/plain": [
       "<Figure size 504x288 with 1 Axes>"
      ]
     },
     "metadata": {
      "needs_background": "light"
     },
     "output_type": "display_data"
    }
   ],
   "source": [
    "plt.figure(figsize=(7,4))\n",
    "plt.plot(xProj,yProj,'ob',ms=2,label='Noisy data')\n",
    "plt.plot(xProj,yProjectile(xProj,alpha0,v00),'x k',ms=4,label='Exact data')\n",
    "plt.plot(xProj,yProjectile(xProj,thetaProj[0],thetaProj[1]),'--r',label='Calibrated func')\n",
    "\n",
    "plt.legend()\n",
    "plt.xlabel('x')\n",
    "plt.ylabel('y')\n",
    "plt.show()"
   ]
  },
  {
   "cell_type": "markdown",
   "metadata": {},
   "source": [
    "## Hands-on: Damped Harmonic Oscillation"
   ]
  },
  {
   "cell_type": "markdown",
   "metadata": {},
   "source": [
    "Consider the simple system consisting of a mass $m$, a damper with damping coefficient $c$, and a spring with constant $k$. For the oscillations with no forcing in the vertical direction, the dynamics of the system is described by the following 2nd-order ODE:\n",
    "    \n",
    "$$\n",
    "\\begin{equation}\n",
    "\\ddot{y} + C \\dot{y} + K y =0 \\,, \\quad y(0)=y_0 \\,, \\dot{y}(0)=v_0\n",
    "\\end{equation}\n",
    "$$\n",
    "\n",
    "where $y$ is the distance from the fixed point at the top, $C=c/m$, and $K=k/m$. The analytical solution for the above ODE is,\n",
    "\n",
    "$$\n",
    "\\begin{equation}\n",
    "   y(t)=\\exp(-C\\,t/2) \\left(c_1\\cos(\\omega t) + c_2 \\sin(\\omega t) \\right)\n",
    "\\end{equation}\n",
    "$$\n",
    "\n",
    "where $c_1=y_0$, $c_2=(v_0+C y_0/2)/\\omega$, and $\\omega = \\sqrt{K-C^2/4}$. "
   ]
  },
  {
   "cell_type": "code",
   "execution_count": 26,
   "metadata": {},
   "outputs": [],
   "source": [
    "def yHarmOscil(t,y0,v0,K,C):\n",
    "    \"\"\"\n",
    "    Computes `y` of the damped harmonic oscillator\n",
    "    \"\"\"\n",
    "    c1=y0\n",
    "    \n",
    "    omeg=K-C**2/4\n",
    "    if (omeg>=0):\n",
    "       omeg=mt.sqrt(omeg)\n",
    "    else:\n",
    "       raise ValueError ('Overdamped case. K >= C^2/4 is not satisfied.')\n",
    "\n",
    "    c2=(v0+C*y0/2)/omeg\n",
    "    y=np.exp(-C*t/2)*(c1*np.cos(omeg*t)+c2*np.sin(omeg*t))\n",
    "    return y"
   ]
  },
  {
   "cell_type": "code",
   "execution_count": 27,
   "metadata": {},
   "outputs": [],
   "source": [
    "n=200\n",
    "t=np.linspace(0,5,n)\n",
    "C0=2\n",
    "K0=100\n",
    "y00=0\n",
    "v00=2\n",
    "noise=0.01*np.random.normal(size=n)\n",
    "y=yHarmOscil(t,y00,v00,K0,C0)+noise"
   ]
  },
  {
   "cell_type": "code",
   "execution_count": 28,
   "metadata": {},
   "outputs": [
    {
     "data": {
      "text/plain": [
       "[<matplotlib.lines.Line2D at 0x7fa906b51110>]"
      ]
     },
     "execution_count": 28,
     "metadata": {},
     "output_type": "execute_result"
    },
    {
     "data": {
      "image/png": "[encoded data removed]",
      "text/plain": [
       "<Figure size 432x288 with 1 Axes>"
      ]
     },
     "metadata": {
      "needs_background": "light"
     },
     "output_type": "display_data"
    }
   ],
   "source": [
    "#plot training data\n",
    "plt.plot(t,y,'ob',ms=2)"
   ]
  },
  {
   "cell_type": "code",
   "execution_count": null,
   "metadata": {},
   "outputs": [],
   "source": []
  },
  {
   "cell_type": "markdown",
   "metadata": {},
   "source": [
    "## Hands-on: The Spalding Law\n",
    "In 1961, [Spalding](https://asmedigitalcollection.asme.org/appliedmechanics/article-abstract/28/3/455/386110/A-Single-Formula-for-the-Law-of-the-Wall?redirectedFrom=fulltext) proposed a single composite profile that covers the viscous sublayer, buffer layer and logarithmic region of an equilibrium boundary layer. Contrary to other attempts, Spalding tried to express $y^+$ in terms of $u^+$:\n",
    "\\begin{equation}\\label{eq:spaldinglaw}\n",
    "y^+=u^+ + e^{-\\kappa B}\\left[e^{\\kappa u^+} - \\sum_{m=0}^{N_{S}} \\frac{(\\kappa u^+)^m}{m!}\\right]\n",
    "\\end{equation}\n",
    "where $N_{S}$ was suggested to be either $3$ or $4$ without any known advantage of one over the other."
   ]
  },
  {
   "cell_type": "code",
   "execution_count": 29,
   "metadata": {},
   "outputs": [],
   "source": [
    "def dataSelector_SapldingLaw(Re,db):\n",
    "    \"\"\"\n",
    "    Select y+ within a given range\n",
    "    \"\"\"    \n",
    "    db_=db['Re'+str(Re)]\n",
    "    I=np.where(db_['y+']<0.2*Re)[0]    \n",
    "    return db_['uTau'],db_['y+'][:I[-1]],db_['Uz+'][:I[-1]]\n",
    "\n",
    "#extract the (y+,u+) data in the range of validity of the wall function\n",
    "uTau,yp,up=dataSelector_SapldingLaw(5200,db)"
   ]
  },
  {
   "cell_type": "code",
   "execution_count": 30,
   "metadata": {},
   "outputs": [],
   "source": [
    "up+=0.3*np.random.normal(size=up.shape[0])"
   ]
  },
  {
   "cell_type": "code",
   "execution_count": 31,
   "metadata": {},
   "outputs": [
    {
     "data": {
      "text/plain": [
       "[<matplotlib.lines.Line2D at 0x7fa906af7310>]"
      ]
     },
     "execution_count": 31,
     "metadata": {},
     "output_type": "execute_result"
    },
    {
     "data": {
      "image/png": "[encoded data removed]",
      "text/plain": [
       "<Figure size 432x288 with 1 Axes>"
      ]
     },
     "metadata": {
      "needs_background": "light"
     },
     "output_type": "display_data"
    }
   ],
   "source": [
    "plt.semilogx(yp,up,'ob',ms=2)"
   ]
  },
  {
   "cell_type": "code",
   "execution_count": null,
   "metadata": {},
   "outputs": [],
   "source": []
  }
 ],
 "metadata": {
  "kernelspec": {
   "display_name": "Python 3",
   "language": "python",
   "name": "python3"
  },
  "language_info": {
   "codemirror_mode": {
    "name": "ipython",
    "version": 3
   },
   "file_extension": ".py",
   "mimetype": "text/x-python",
   "name": "python",
   "nbconvert_exporter": "python",
   "pygments_lexer": "ipython3",
   "version": "3.7.4"
  }
 },
 "nbformat": 4,
 "nbformat_minor": 2
}
